{
  "nbformat": 4,
  "nbformat_minor": 0,
  "metadata": {
    "colab": {
      "provenance": [],
      "authorship_tag": "ABX9TyNJC9/hc65gd3/evy6DjaFy",
      "include_colab_link": true
    },
    "kernelspec": {
      "name": "python3",
      "display_name": "Python 3"
    },
    "language_info": {
      "name": "python"
    }
  },
  "cells": [
    {
      "cell_type": "markdown",
      "metadata": {
        "id": "view-in-github",
        "colab_type": "text"
      },
      "source": [
        "<a href=\"https://colab.research.google.com/github/Lahari-13/Classification-of-Poultry-disease/blob/main/Untitled41.ipynb\" target=\"_parent\"><img src=\"https://colab.research.google.com/assets/colab-badge.svg\" alt=\"Open In Colab\"/></a>"
      ]
    },
    {
      "cell_type": "code",
      "execution_count": 1,
      "metadata": {
        "colab": {
          "base_uri": "https://localhost:8080/"
        },
        "id": "THUg-xu-WpHj",
        "outputId": "ef516058-af1b-4803-82ef-d59edc6d0d05"
      },
      "outputs": [
        {
          "output_type": "stream",
          "name": "stdout",
          "text": [
            "Training Accuracy: 1.0\n",
            "\n",
            "Classification Report (Training Data):\n",
            "               precision    recall  f1-score   support\n",
            "\n",
            " Coccidiosis       1.00      1.00      1.00         5\n",
            "     Healthy       1.00      1.00      1.00         5\n",
            "   Newcastle       1.00      1.00      1.00         5\n",
            "  Salmonella       1.00      1.00      1.00         4\n",
            "\n",
            "    accuracy                           1.00        19\n",
            "   macro avg       1.00      1.00      1.00        19\n",
            "weighted avg       1.00      1.00      1.00        19\n",
            "\n",
            "\n",
            "Predicted Disease for sample input: Coccidiosis\n"
          ]
        }
      ],
      "source": [
        "import pandas as pd\n",
        "from sklearn.ensemble import RandomForestClassifier\n",
        "from sklearn.model_selection import train_test_split, cross_val_score\n",
        "from sklearn.preprocessing import LabelEncoder\n",
        "from sklearn.metrics import accuracy_score, classification_report\n",
        "import pickle\n",
        "\n",
        "# Load dataset\n",
        "df = pd.read_excel(\"/content/poultry_disease_dataset.xlsx\")\n",
        "\n",
        "# Encode categorical features\n",
        "label_encoders = {}\n",
        "for column in df.columns:\n",
        "    if df[column].dtype == 'object':\n",
        "        le = LabelEncoder()\n",
        "        df[column] = le.fit_transform(df[column])\n",
        "        label_encoders[column] = le\n",
        "\n",
        "# Split features and target\n",
        "X = df.drop(\"disease\", axis=1)\n",
        "y = df[\"disease\"]\n",
        "\n",
        "# Train final model\n",
        "model = RandomForestClassifier(n_estimators=100, max_depth=5, random_state=42)\n",
        "model.fit(X, y)\n",
        "\n",
        "# Evaluate model on training data\n",
        "y_pred = model.predict(X)\n",
        "accuracy = accuracy_score(y, y_pred)\n",
        "report = classification_report(y, y_pred, target_names=label_encoders['disease'].classes_)\n",
        "\n",
        "print(\"Training Accuracy:\", accuracy)\n",
        "print(\"\\nClassification Report (Training Data):\\n\", report)\n",
        "\n",
        "# Save model and encoders\n",
        "with open(\"poultry_model.pkl\", \"wb\") as f:\n",
        "    pickle.dump(model, f)\n",
        "\n",
        "with open(\"encoders.pkl\", \"wb\") as f:\n",
        "    pickle.dump(label_encoders, f)\n",
        "\n",
        "# Predict sample input\n",
        "sample = pd.DataFrame([[\"high\", \"poor\", \"ruffled\", \"watery\"]],\n",
        "                      columns=[\"temperature\", \"appetite\", \"feathers\", \"droppings\"])\n",
        "\n",
        "# Encode input\n",
        "for col in sample.columns:\n",
        "    sample[col] = label_encoders[col].transform(sample[col])\n",
        "\n",
        "# Predict\n",
        "prediction = model.predict(sample)[0]\n",
        "predicted_disease = label_encoders[\"disease\"].inverse_transform([prediction])[0]\n",
        "print(\"\\nPredicted Disease for sample input:\", predicted_disease)"
      ]
    }
  ]
}